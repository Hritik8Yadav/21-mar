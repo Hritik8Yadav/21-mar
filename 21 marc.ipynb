{
 "cells": [
  {
   "cell_type": "code",
   "execution_count": null,
   "id": "fb08318b-53c8-4eb2-abd3-90e1c690f20f",
   "metadata": {},
   "outputs": [],
   "source": [
    "'''Ans1: The difference between label encoding and ordinal encoding are: \n",
    "            \n",
    "            i. The label encoding include the encoding in which the priority doesn't matter while the ordinal\n",
    "               encoding include the encoding in which the the priority of the categorised data matters a lot.\n",
    "            \n",
    "            ii. The label encoding assign the numerical value randomly while in the ordinal encoding the number\n",
    "                is assigned in series.\n",
    "        \n",
    "        for e.g. :\n",
    "                \n",
    "                    The label encoding the height of [tall, medium, short] is can be assigned as [0, 2, 1] while\n",
    "                    in the ordinal encoding the height is assigned in descending order given as [2, 1, 0]\n",
    "'''"
   ]
  },
  {
   "cell_type": "code",
   "execution_count": null,
   "id": "07069b2d-58ea-4279-b428-91455b68a792",
   "metadata": {},
   "outputs": [],
   "source": [
    "'''Ans2: The targeted Guided ordinal encoding technique is the technique in which the categorical values are\n",
    "         encoded in the numerical values using the target value of the variable. In this type of encoding\n",
    "         the mean or the median of the values are calculated and then the mean or median is assigned to the \n",
    "         categorical variable. The mean or median is calculated for each distinct values of the feature.\n",
    "         \n",
    "         This type of encoding is very useful where there is very strong relation in betweeen the categorical\n",
    "         values and the targeted values. And also the number of distinct values is very high in the categorical\n",
    "         variable.\n",
    "        \n",
    "'''"
   ]
  },
  {
   "cell_type": "code",
   "execution_count": null,
   "id": "94662b4f-7350-4bb8-8a17-1a747ae2302f",
   "metadata": {},
   "outputs": [],
   "source": [
    "'''Ans3: \n",
    "'''"
   ]
  },
  {
   "cell_type": "code",
   "execution_count": 4,
   "id": "1d48af6d-b181-4e71-9373-d1c88d56e364",
   "metadata": {},
   "outputs": [],
   "source": [
    "from sklearn.preprocessing import LabelEncoder\n",
    "import pandas as pd\n",
    "import seaborn as sb\n",
    "color=['red', 'green', 'blue']\n",
    "size=['small', 'medium', 'large']\n",
    "material=['wood', 'metal', 'plastic']\n",
    "df=pd.DataFrame([color,size,material],columns=['color','size','material'])"
   ]
  },
  {
   "cell_type": "code",
   "execution_count": 5,
   "id": "b24ed46b-e25b-4bb6-b2e7-05f2ec7a9615",
   "metadata": {},
   "outputs": [],
   "source": [
    "lebl=LabelEncoder()"
   ]
  },
  {
   "cell_type": "code",
   "execution_count": 6,
   "id": "d2002e42-309e-43b6-85d8-8c4a72c7e04c",
   "metadata": {
    "tags": []
   },
   "outputs": [
    {
     "data": {
      "text/html": [
       "<div>\n",
       "<style scoped>\n",
       "    .dataframe tbody tr th:only-of-type {\n",
       "        vertical-align: middle;\n",
       "    }\n",
       "\n",
       "    .dataframe tbody tr th {\n",
       "        vertical-align: top;\n",
       "    }\n",
       "\n",
       "    .dataframe thead th {\n",
       "        text-align: right;\n",
       "    }\n",
       "</style>\n",
       "<table border=\"1\" class=\"dataframe\">\n",
       "  <thead>\n",
       "    <tr style=\"text-align: right;\">\n",
       "      <th></th>\n",
       "      <th>color</th>\n",
       "      <th>size</th>\n",
       "      <th>material</th>\n",
       "    </tr>\n",
       "  </thead>\n",
       "  <tbody>\n",
       "    <tr>\n",
       "      <th>0</th>\n",
       "      <td>0</td>\n",
       "      <td>0</td>\n",
       "      <td>0</td>\n",
       "    </tr>\n",
       "    <tr>\n",
       "      <th>1</th>\n",
       "      <td>1</td>\n",
       "      <td>1</td>\n",
       "      <td>1</td>\n",
       "    </tr>\n",
       "    <tr>\n",
       "      <th>2</th>\n",
       "      <td>2</td>\n",
       "      <td>2</td>\n",
       "      <td>2</td>\n",
       "    </tr>\n",
       "  </tbody>\n",
       "</table>\n",
       "</div>"
      ],
      "text/plain": [
       "   color  size  material\n",
       "0      0     0         0\n",
       "1      1     1         1\n",
       "2      2     2         2"
      ]
     },
     "execution_count": 6,
     "metadata": {},
     "output_type": "execute_result"
    }
   ],
   "source": [
    "df.apply(lebl.fit_transform)"
   ]
  },
  {
   "cell_type": "code",
   "execution_count": 13,
   "id": "3c4a96d9-67f3-4589-9ff3-dc2bc093d758",
   "metadata": {},
   "outputs": [
    {
     "name": "stderr",
     "output_type": "stream",
     "text": [
      "/tmp/ipykernel_98/3243088013.py:6: FutureWarning: The default value of numeric_only in DataFrame.cov is deprecated. In a future version, it will default to False. Select only valid columns or specify the value of numeric_only to silence this warning.\n",
      "  ddf.cov()\n"
     ]
    },
    {
     "data": {
      "text/html": [
       "<div>\n",
       "<style scoped>\n",
       "    .dataframe tbody tr th:only-of-type {\n",
       "        vertical-align: middle;\n",
       "    }\n",
       "\n",
       "    .dataframe tbody tr th {\n",
       "        vertical-align: top;\n",
       "    }\n",
       "\n",
       "    .dataframe thead th {\n",
       "        text-align: right;\n",
       "    }\n",
       "</style>\n",
       "<table border=\"1\" class=\"dataframe\">\n",
       "  <thead>\n",
       "    <tr style=\"text-align: right;\">\n",
       "      <th></th>\n",
       "      <th>age</th>\n",
       "      <th>income</th>\n",
       "    </tr>\n",
       "  </thead>\n",
       "  <tbody>\n",
       "    <tr>\n",
       "      <th>age</th>\n",
       "      <td>9.583333</td>\n",
       "      <td>5.580500e+03</td>\n",
       "    </tr>\n",
       "    <tr>\n",
       "      <th>income</th>\n",
       "      <td>5580.500000</td>\n",
       "      <td>3.343276e+06</td>\n",
       "    </tr>\n",
       "  </tbody>\n",
       "</table>\n",
       "</div>"
      ],
      "text/plain": [
       "                age        income\n",
       "age        9.583333  5.580500e+03\n",
       "income  5580.500000  3.343276e+06"
      ]
     },
     "execution_count": 13,
     "metadata": {},
     "output_type": "execute_result"
    }
   ],
   "source": [
    "#Ans 5:\n",
    "age=[25,29,23,22]\n",
    "income=[3000,5924,2524,1734]\n",
    "education_level=['phd','masters','bachelors','diploma']\n",
    "ddf=pd.DataFrame({'age':age,'income':income,'education_level':education_level})\n",
    "ddf.cov()"
   ]
  },
  {
   "cell_type": "code",
   "execution_count": null,
   "id": "70c31342-215b-4471-8fbe-1b4b72607cab",
   "metadata": {},
   "outputs": [],
   "source": [
    "''' In the above covariance matrix the all the values are positive due to this there is positive covariance \n",
    "    between the columns age and income while the education_level column is categorical.\n",
    "'''"
   ]
  },
  {
   "cell_type": "code",
   "execution_count": null,
   "id": "b35a6a7d-0b4d-4d0a-92b3-64ec884831dd",
   "metadata": {},
   "outputs": [],
   "source": [
    "'''Ans6: For each of the column the type of encoding used will be: \n",
    "            \n",
    "            i. Gender column: Since the gender column only have two distinct values then the binary ordinal encoding\n",
    "                              can be used where then 0 and 1 value is assigned to the male and female catergorical\n",
    "                              variable.\n",
    "            \n",
    "            ii. Education Level: This column has four distinct values then one hot encoding technique can be used\n",
    "                                 where a distinct column will be assigned to each of the value of categorical variable\n",
    "                                 and the value 1 will be assigned to the values where the column and feature has same \n",
    "                                 categorical value this will create a spare matrix will be created.\n",
    "                                 \n",
    "            iii. Employment status: In this column also the one hot encoding technique is best because the values will\n",
    "                                    be only three and the sparx matrix will be of 3 x 3.\n",
    "'''"
   ]
  },
  {
   "cell_type": "code",
   "execution_count": null,
   "id": "e198811b-b0b5-4ba0-8181-7b4a90cbe3c1",
   "metadata": {},
   "outputs": [],
   "source": []
  }
 ],
 "metadata": {
  "kernelspec": {
   "display_name": "Python 3 (ipykernel)",
   "language": "python",
   "name": "python3"
  },
  "language_info": {
   "codemirror_mode": {
    "name": "ipython",
    "version": 3
   },
   "file_extension": ".py",
   "mimetype": "text/x-python",
   "name": "python",
   "nbconvert_exporter": "python",
   "pygments_lexer": "ipython3",
   "version": "3.10.8"
  }
 },
 "nbformat": 4,
 "nbformat_minor": 5
}
